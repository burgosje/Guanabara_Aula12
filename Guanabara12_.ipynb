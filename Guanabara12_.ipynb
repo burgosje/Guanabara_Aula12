{
  "nbformat": 4,
  "nbformat_minor": 0,
  "metadata": {
    "colab": {
      "provenance": [],
      "authorship_tag": "ABX9TyOAYCbl5o4j/QrnPLlYqO2V",
      "include_colab_link": true
    },
    "kernelspec": {
      "name": "python3",
      "display_name": "Python 3"
    },
    "language_info": {
      "name": "python"
    }
  },
  "cells": [
    {
      "cell_type": "markdown",
      "metadata": {
        "id": "view-in-github",
        "colab_type": "text"
      },
      "source": [
        "<a href=\"https://colab.research.google.com/github/burgosje/Guanabara_Aula12/blob/main/Guanabara12_.ipynb\" target=\"_parent\"><img src=\"https://colab.research.google.com/assets/colab-badge.svg\" alt=\"Open In Colab\"/></a>"
      ]
    },
    {
      "cell_type": "markdown",
      "source": [
        "Aula 12 Curso em Vídeo Guanabara"
      ],
      "metadata": {
        "id": "MwW6IJwOq4F9"
      }
    },
    {
      "cell_type": "markdown",
      "source": [
        "Condições aninhadas"
      ],
      "metadata": {
        "id": "pE06mef2tscx"
      }
    },
    {
      "cell_type": "code",
      "source": [
        "nome = input('Qual é seu nome? ')\n",
        "if nome == 'Jé':\n",
        "  print('Maravilhose!')\n",
        "elif nome == 'Tati' or nome == 'Socorro' or nome == 'Hilton':\n",
        "    print('Que família maravilhosa!')\n",
        "elif nome in 'Branquelo Tonho':\n",
        "    print('Gatinho lindo')\n",
        "else:\n",
        "  print('Seu nome é massa!')\n",
        "print('Tenha um bom dia, {}!'.format(nome))"
      ],
      "metadata": {
        "colab": {
          "base_uri": "https://localhost:8080/"
        },
        "id": "KjBBe5gmv0ae",
        "outputId": "449d945b-c49a-41fa-e28c-b826a14cad29"
      },
      "execution_count": null,
      "outputs": [
        {
          "output_type": "stream",
          "name": "stdout",
          "text": [
            "Qual é seu nome? Paula\n",
            "Tenha um bom dia, Paula!\n"
          ]
        }
      ]
    },
    {
      "cell_type": "code",
      "source": [
        "valor_casa = float(input('Digite o valor da casa: '))\n",
        "salario = float(input('Digite o salário do comprador: '))\n",
        "anos = int(input('Digite em quantos anos o comprador vai pagar: '))\n",
        "prestacao = float(input('Digite quanto você quer pagar por mês: '))\n",
        "\n",
        "if prestacao > (salario * 0.30):\n",
        "  print('Empréstimo negado')\n",
        "\n",
        "else:\n",
        "  (prestacao * 12) * anos == valor_casa\n",
        "  print('A casa custa {}\\nO salário da pessoa é R$ {}\\nA casa será paga em {} anos\\nA prestação é de {}'.format(valor_casa, salario, anos, prestacao\n",
        "                                                                                                                ))\n"
      ],
      "metadata": {
        "colab": {
          "base_uri": "https://localhost:8080/"
        },
        "id": "N2_kKLsKxxDI",
        "outputId": "414418a5-72c4-4513-bc50-e97b3fbc810d"
      },
      "execution_count": null,
      "outputs": [
        {
          "output_type": "stream",
          "name": "stdout",
          "text": [
            "Digite o valor da casa: 50000\n",
            "Digite o salário do comprador: 5000\n",
            "Digite em quantos anos o comprador vai pagar: 1\n",
            "Digite quanto você quer pagar por mês: 2000\n",
            "Empréstimo negado\n"
          ]
        }
      ]
    },
    {
      "cell_type": "code",
      "source": [
        "num1 = int(input('Digite um número inteiro: '))\n",
        "num2 = int(input('Digite outro número inteiro: '))\n",
        "\n",
        "if num1 > num2:\n",
        "  print('O primeiro valor é maior')\n",
        "elif num2 > num1:\n",
        "  print('O segundo valor é maior')\n",
        "elif num1 == num2:\n",
        "  print('Não existe valor maior, os dois são iguais')"
      ],
      "metadata": {
        "colab": {
          "base_uri": "https://localhost:8080/"
        },
        "id": "sNL0fnfg2IwY",
        "outputId": "6b498478-e6b1-45fb-cd75-21c78c502166"
      },
      "execution_count": null,
      "outputs": [
        {
          "output_type": "stream",
          "name": "stdout",
          "text": [
            "Digite um número inteiro: 3\n",
            "Digite outro número inteiro: 2\n",
            "O primeiro valor é maior\n"
          ]
        }
      ]
    },
    {
      "cell_type": "code",
      "source": [
        "ano = int(input('Digite o ano do seu nascimento: '))\n",
        "\n",
        "if ano < 18:\n",
        "  print('Aproveite o tempo que tem. Você ainda vai se alistar no exército')\n",
        "elif ano <= 18:\n",
        "  print('Se fudeu! Hora de se alistar!')\n",
        "elif ano > 18:\n",
        "  print('Ufa! Já passou do tempo do alistamento')"
      ],
      "metadata": {
        "colab": {
          "base_uri": "https://localhost:8080/"
        },
        "id": "Dg-d7zq03Q9N",
        "outputId": "2955a38d-05aa-4546-baa6-6a06be42f698"
      },
      "execution_count": null,
      "outputs": [
        {
          "output_type": "stream",
          "name": "stdout",
          "text": [
            "Digite o ano do seu nascimento: 19\n",
            "Já passou do tempo do alistamento\n"
          ]
        }
      ]
    },
    {
      "cell_type": "code",
      "source": [
        "n1 = float(input('Digite a primeira nota: '))\n",
        "n2 = float(input('Digite a segunda nota: '))\n",
        "\n",
        "media = (n1 + n2) / 2\n",
        "\n",
        "if media < 5.0:\n",
        "  print('Infelizmente você foi reprovade.')\n",
        "elif media >= 5.0 or media == 6.9:\n",
        "  print('Quase lá! Você está na recuperação.')\n",
        "elif media >= 7.0:\n",
        "  print('Arrasou! Você está aprovade!')"
      ],
      "metadata": {
        "colab": {
          "base_uri": "https://localhost:8080/"
        },
        "id": "bp_4q-RE4Mfv",
        "outputId": "7bac569b-3f1f-4eb3-98c1-be2a232630ec"
      },
      "execution_count": null,
      "outputs": [
        {
          "output_type": "stream",
          "name": "stdout",
          "text": [
            "Digite a primeira nota: 6\n",
            "Digite a segunda nota: 5\n",
            "Quase lá! Você está na recuperação.\n"
          ]
        }
      ]
    },
    {
      "cell_type": "code",
      "source": [
        "print('-=' * 20)\n",
        "print('Analisador de triângulos')\n",
        "print('-=' * 20)\n",
        "\n",
        "r1 = float(input('Primeiro segmento: '))\n",
        "r2 = float(input('Segundo segmento: '))\n",
        "r3 = float(input('Terceiro segmento: '))\n",
        "\n",
        "if r1 < r2 + r3 and r2 < r1 + r3 and r3 < r1 + r2:\n",
        "  print('Os segmentos acima pode formar um triângulo')\n",
        "else:\n",
        "  print('Os segmentos acima não podem formar triângulo')"
      ],
      "metadata": {
        "colab": {
          "base_uri": "https://localhost:8080/"
        },
        "id": "8alP-q-X5oA4",
        "outputId": "d8c671c1-da42-4ac4-f655-2f484b9b8b9f"
      },
      "execution_count": null,
      "outputs": [
        {
          "output_type": "stream",
          "name": "stdout",
          "text": [
            "-=-=-=-=-=-=-=-=-=-=-=-=-=-=-=-=-=-=-=-=\n",
            "Analisador de triângulos\n",
            "-=-=-=-=-=-=-=-=-=-=-=-=-=-=-=-=-=-=-=-=\n",
            "Primeiro segmento: 8\n",
            "Segundo segmento: 2\n",
            "Terceiro segmento: 2\n",
            "Os segmentos acima não podem formar triângulos\n"
          ]
        }
      ]
    },
    {
      "cell_type": "code",
      "source": [
        "r1 = float(input('Primeiro segmento: '))\n",
        "r2 = float(input('Segundo segmento: '))\n",
        "r3 = float(input('Terceiro segmento: '))\n",
        "\n",
        "if r1 < r2 + r3 and r2 < r1 + r3 and r3 < r1 + r2:\n",
        "  print('Os segmentos podem formar um triângulo', end=' ')\n",
        "  if r1 == r2 == r3:\n",
        "    print('Equilátero')\n",
        "  elif r1 != r2 != r3 != r1:\n",
        "    print('Escaleno')\n",
        "  else:\n",
        "    print('Isósceles')\n",
        "else:\n",
        "  print('Os segmentos não podem formar um triângulo')"
      ],
      "metadata": {
        "colab": {
          "base_uri": "https://localhost:8080/"
        },
        "id": "sOMizrgl7JvM",
        "outputId": "1d9ad1f5-a98c-43ed-8a99-9f1d5277c057"
      },
      "execution_count": null,
      "outputs": [
        {
          "output_type": "stream",
          "name": "stdout",
          "text": [
            "Primeiro segmento: 3\n",
            "Segundo segmento: 3\n",
            "Terceiro segmento: 4\n",
            "Os segmentos podem formar um triângulo Isósceles\n"
          ]
        }
      ]
    },
    {
      "cell_type": "code",
      "source": [
        "altura = float(input('Digite sua altura: '))\n",
        "peso = float (input('Digite seu peso: '))\n",
        "\n",
        "IMC = peso / (altura * altura)\n",
        "\n",
        "if IMC < 18.5:\n",
        "  print('Você está abaixo do peso')\n",
        "elif IMC >= 18.5 and IMC <= 25.0:\n",
        "  print('Peso ideal')\n",
        "elif IMC > 25.0 and IMC <= 30.0:\n",
        "  print('Sobrepeso')\n",
        "elif IMC > 30.0 and IMC <= 40.0:\n",
        "  print('Obesidade')\n",
        "else:\n",
        "  print('Obesidade mórbida')"
      ],
      "metadata": {
        "colab": {
          "base_uri": "https://localhost:8080/"
        },
        "id": "9Nab0Y-I_Amy",
        "outputId": "7c3f669d-231a-4d34-8b4e-99549e323449"
      },
      "execution_count": null,
      "outputs": [
        {
          "output_type": "stream",
          "name": "stdout",
          "text": [
            "Digite sua altura: 1.7\n",
            "Digite seu peso: 160\n",
            "Obesidade mórbida\n"
          ]
        }
      ]
    },
    {
      "cell_type": "code",
      "source": [
        "preco = float(input('Digite o preço do produto: R$ '))\n",
        "\n",
        "print('''Formas de pagamentos\n",
        "[ 1 ] à vista no dinheiro ou cheque\n",
        "[ 2 ] à vista no cartão\n",
        "[ 3 ] 2 x no cartão\n",
        "[ 4 ] 3 x ou mais no cartão''')\n",
        "opcao = int(input('Qual é a forma de pagamento? '))\n",
        "\n",
        "if opcao == 1:\n",
        "  total = preco - (preco * 10 / 100)\n",
        "  print('Você ganhou 10% de desconto. Seu valor é R${:.2f}.'.format(total))\n",
        "elif opcao == 2:\n",
        "  total = preco - (preco * 5 / 100)\n",
        "  print('Você ganhou 5% de desconto. Seu valor é R${:.2f}.'.format(total))\n",
        "elif opcao == 3:\n",
        "  total = preco\n",
        "  print('Seu valor é R${:.2f}.'.format(total))\n",
        "else:\n",
        "  total = preco + (preco * 20 / 100)\n",
        "  print('Você deve pagar 20% de juros. Seu valor é R${:.2f}.'.format(total))"
      ],
      "metadata": {
        "id": "BWaDajXzAvtp"
      },
      "execution_count": null,
      "outputs": []
    },
    {
      "cell_type": "code",
      "source": [
        "from random import randint\n",
        "computador = randint(0, 5)\n",
        "print('-=-' * 20)\n",
        "print('Vou pensar em um número entre 0 e 5. Tente adivinhar...')\n",
        "print('-=-' * 20)\n",
        "jogador = int(input('Em que número eu pensei? '))\n",
        "if jogador == computador:\n",
        "  print('Parabéns! Você venceu!')\n",
        "else:\n",
        "  print('Ganhei! Eu pensei no número {} e não no número {}!'.format(computador, jogador))"
      ],
      "metadata": {
        "id": "tboRKKW8F6rl"
      },
      "execution_count": null,
      "outputs": []
    },
    {
      "cell_type": "code",
      "source": [
        "from random import randint\n",
        "itens = ('Pedra', 'Papel', 'Tesoura')\n",
        "computador = randint (0, 2)\n",
        "print('O computador escolheu {}'.format(itens[computador]))\n",
        "\n",
        "print('''Você pode escolher entre:\n",
        "[ 0 ] Pedra\n",
        "[ 1 ] Papel\n",
        "[ 2 ] Tesoura''')\n",
        "jogador = int(input('Em qual você pensou? '))\n",
        "print('Computador jogou {}'.format(itens[computador]))\n",
        "print('Jogador jogou {}'.format(itens[jogador]))"
      ],
      "metadata": {
        "colab": {
          "base_uri": "https://localhost:8080/"
        },
        "id": "naT_i8AGGHOT",
        "outputId": "7c956ea0-0f29-46b3-9db3-66168db31c0e"
      },
      "execution_count": null,
      "outputs": [
        {
          "output_type": "stream",
          "name": "stdout",
          "text": [
            "O computador escolheu Papel\n",
            "Você pode escolher entre:\n",
            "[ 0 ] Pedra\n",
            "[ 1 ] Papel\n",
            "[ 2 ] Tesoura\n",
            "Em qual você pensou? 2\n",
            "Computador jogou Papel\n",
            "Jogador jogou Tesoura\n"
          ]
        }
      ]
    }
  ]
}